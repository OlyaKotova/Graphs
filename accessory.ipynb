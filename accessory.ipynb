{
 "cells": [
  {
   "cell_type": "code",
   "execution_count": null,
   "metadata": {
    "collapsed": true
   },
   "outputs": [],
   "source": [
    "import networkx as nx\n",
    "from networkx.algorithms.bipartite import sets\n",
    "from numpy import *\n",
    "from networkx.algorithms import bipartite\n",
    "import itertools\n",
    "import random\n",
    "import matplotlib.pyplot as plt"
   ]
  },
  {
   "cell_type": "code",
   "execution_count": null,
   "outputs": [],
   "source": [
    "# Граф Эрдьёша-Реньи\n",
    "\n",
    "def random_graph(n:int, p:double, rnd=None) -> nx.Graph:\n",
    "  gr = nx.Graph()\n",
    "  N_range = range(n)\n",
    "  gr.add_nodes_from(N_range)\n",
    "   \n",
    "  for pair in itertools.permutations(N_range, 2):\n",
    "    if random.random()  < p:\n",
    "      gr.add_edge(*pair)\n",
    "   \n",
    "  return gr"
   ],
   "metadata": {
    "collapsed": false,
    "pycharm": {
     "name": "#%%\n"
    }
   }
  },
  {
   "cell_type": "code",
   "execution_count": null,
   "outputs": [],
   "source": [
    "#Генерация сочетаний из n по k без повторений\n",
    "\n",
    "def comb(n, k):   \n",
    "    a = list(range(0, k))\n",
    "    yield a\n",
    "\n",
    "    while True:\n",
    "        i = k - 1\n",
    "        while i >= 0 and a[i] > n - k + i - 1:\n",
    "            i -= 1\n",
    "        if i < 0:\n",
    "            return\n",
    "\n",
    "        a[i] += 1\n",
    "        for j in range(i + 1, k):\n",
    "            a[j] = a[j - 1] + 1\n",
    "\n",
    "        yield a"
   ],
   "metadata": {
    "collapsed": false,
    "pycharm": {
     "name": "#%% \n"
    }
   }
  },
  {
   "cell_type": "code",
   "execution_count": null,
   "outputs": [],
   "source": [
    "def is_bipartite_node_set(G, nodes):\n",
    "    S = set(nodes)\n",
    "    for CC in (G.subgraph(c).copy() for c in nx.connected_components(G)):\n",
    "        X, Y = sets(CC)\n",
    "        if not ((X.issubset(S) and Y.isdisjoint(S)) or\n",
    "                (Y.issubset(S) and X.isdisjoint(S))):\n",
    "            return False\n",
    "    return True"
   ],
   "metadata": {
    "collapsed": false,
    "pycharm": {
     "name": "#%%\n"
    }
   }
  },
  {
   "cell_type": "code",
   "execution_count": null,
   "outputs": [],
   "source": [
    "def color(G):\n",
    "    if G.is_directed():\n",
    "        import itertools\n",
    "\n",
    "        def neighbors(v):\n",
    "            return itertools.chain.from_iterable([G.predecessors(v),\n",
    "                                                  G.successors(v)])\n",
    "    else:\n",
    "        neighbors = G.neighbors\n",
    "\n",
    "    color = {}\n",
    "    for n in G:  # handle disconnected graphs\n",
    "        if n in color or len(G[n]) == 0:  # skip isolates\n",
    "            continue\n",
    "        queue = [n]\n",
    "        color[n] = 1  # nodes seen with color (1 or 0)\n",
    "        while queue:\n",
    "            v = queue.pop()\n",
    "            c = 1 - color[v]  # opposite color of node v\n",
    "            for w in neighbors(v):\n",
    "                if w in color:\n",
    "                    if color[w] == color[v]:\n",
    "                        raise nx.NetworkXError(\"Graph is not bipartite.\")\n",
    "                else:\n",
    "                    color[w] = c\n",
    "                    queue.append(w)\n",
    "    # color isolates with 0\n",
    "    color.update(dict.fromkeys(nx.isolates(G), 0))\n",
    "    return color"
   ],
   "metadata": {
    "collapsed": false,
    "pycharm": {
     "name": "#%%\n"
    }
   }
  },
  {
   "cell_type": "code",
   "execution_count": null,
   "outputs": [],
   "source": [
    "def is_bipartite(G):\n",
    "    try:\n",
    "        color(G)\n",
    "        return True\n",
    "    except nx.NetworkXError:\n",
    "        return False\n"
   ],
   "metadata": {
    "collapsed": false,
    "pycharm": {
     "name": "#%%\n"
    }
   }
  },
  {
   "cell_type": "code",
   "execution_count": null,
   "outputs": [],
   "source": [
    "def min_weighted_vertex_cover(G, weight=None):\n",
    "    cost = dict(G.nodes(data=weight, default=1))\n",
    "    # While there are uncovered edges, choose an uncovered and update\n",
    "    # the cost of the remaining edges.\n",
    "    for u, v in G.edges():\n",
    "        min_cost = min(cost[u], cost[v])\n",
    "        cost[u] -= min_cost\n",
    "        cost[v] -= min_cost\n",
    "    return {u for u, c in cost.items() if c == 0}"
   ],
   "metadata": {
    "collapsed": false,
    "pycharm": {
     "name": "#%%\n"
    }
   }
  }
 ],
 "metadata": {
  "kernelspec": {
   "display_name": "PyCharm (Diplom)",
   "language": "python",
   "name": "pycharm-60f0cf7b"
  },
  "language_info": {
   "codemirror_mode": {
    "name": "ipython",
    "version": 2
   },
   "file_extension": ".py",
   "mimetype": "text/x-python",
   "name": "python",
   "nbconvert_exporter": "python",
   "pygments_lexer": "ipython2",
   "version": "2.7.6"
  },
  "pycharm": {
   "stem_cell": {
    "cell_type": "raw",
    "source": [],
    "metadata": {
     "collapsed": false
    }
   }
  }
 },
 "nbformat": 4,
 "nbformat_minor": 0
}
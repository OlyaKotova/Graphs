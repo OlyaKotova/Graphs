{
 "cells": [
  {
   "cell_type": "code",
   "execution_count": null,
   "outputs": [],
   "source": [
    "import networkx as nx\n",
    "from numpy import *\n",
    "from networkx.algorithms import bipartite\n",
    "import itertools\n",
    "import random"
   ],
   "metadata": {
    "collapsed": false,
    "pycharm": {
     "name": "#%%\n"
    }
   }
  },
  {
   "cell_type": "code",
   "execution_count": null,
   "outputs": [],
   "source": [
    "graph = nx.Graph()\n",
    "graph.add_node('A')\n",
    "graph.add_node('B')\n",
    "graph.add_node('C')\n",
    "graph.nodes()"
   ],
   "metadata": {
    "collapsed": false,
    "pycharm": {
     "name": "#%%\n"
    }
   }
  },
  {
   "cell_type": "code",
   "execution_count": null,
   "outputs": [],
   "source": [
    "def add_edge(f_item, s_item, graph=None):\n",
    "  graph.add_edge(f_item, s_item)\n",
    "  graph.add_edge(s_item, f_item) \n",
    "#add_edge('A', 'B', graph=graph)\n"
   ],
   "metadata": {
    "collapsed": false,
    "pycharm": {
     "name": "#%%\n"
    }
   }
  },
  {
   "cell_type": "code",
   "execution_count": null,
   "outputs": [],
   "source": [
    "# Граф Эрдьёша-Реньи\n",
    "\n",
    "def random_graph(n:int, p:double, rnd=None) -> nx.Graph:\n",
    "  gr = nx.Graph()\n",
    "  N_range = range(n)\n",
    "  gr.add_nodes_from(N_range)\n",
    "   \n",
    "  for pair in itertools.permutations(N_range, 2):\n",
    "    if random.random()  < p:\n",
    "      gr.add_edge(*pair)\n",
    "   \n",
    "  return gr"
   ],
   "metadata": {
    "collapsed": false,
    "pycharm": {
     "name": "#%%\n"
    }
   }
  },
  {
   "cell_type": "code",
   "execution_count": null,
   "outputs": [],
   "source": [
    "# Строим рандомный граф\n",
    "\n",
    "gr = random_graph(7, 0.4)\n",
    "\n",
    "nx.draw_circular(gr,\n",
    "         node_color='y',\n",
    "         node_size=1000,\n",
    "         with_labels=True)"
   ],
   "metadata": {
    "collapsed": false,
    "pycharm": {
     "name": "#%%\n"
    }
   }
  },
  {
   "cell_type": "code",
   "execution_count": null,
   "outputs": [],
   "source": [
    "# Список вершин\n",
    "list(gr)\n",
    "\n",
    "# Поиск в ширину\n",
    "list(nx.bfs_edges(gr, 0))\n",
    "\n",
    "# Удаление вершины: gr.remove_node(1)\n"
   ],
   "metadata": {
    "collapsed": false,
    "pycharm": {
     "name": "#%%\n"
    }
   }
  },
  {
   "cell_type": "code",
   "execution_count": null,
   "outputs": [],
   "source": [
    "#Планарный граф\n",
    "x = nx.check_planarity(gr)\n",
    "\n",
    "if x[0]:\n",
    "    nx.draw_planar(gr, with_labels = True)\n",
    "else:\n",
    "    print(\"Oooopppss\")\n",
    "    "
   ],
   "metadata": {
    "collapsed": false,
    "pycharm": {
     "name": "#%%\n"
    }
   }
  },
  {
   "cell_type": "code",
   "execution_count": null,
   "outputs": [],
   "source": [
    "# Подграф\n",
    "sub = gr.subgraph([3, 4, 5])\n",
    "\n",
    "nx.draw_circular(sub,\n",
    "         node_color='y',\n",
    "         node_size=1000,\n",
    "         with_labels=True)\n",
    "\n",
    "list(sub)"
   ],
   "metadata": {
    "collapsed": false,
    "pycharm": {
     "name": "#%%\n"
    }
   }
  }
 ],
 "metadata": {
  "kernelspec": {
   "display_name": "PyCharm (Diplom)",
   "language": "python",
   "name": "pycharm-60f0cf7b"
  },
  "language_info": {
   "codemirror_mode": {
    "name": "ipython",
    "version": 2
   },
   "file_extension": ".py",
   "mimetype": "text/x-python",
   "name": "python",
   "nbconvert_exporter": "python",
   "pygments_lexer": "ipython2",
   "version": "2.7.6"
  },
  "pycharm": {
   "stem_cell": {
    "cell_type": "raw",
    "source": [],
    "metadata": {
     "collapsed": false
    }
   }
  }
 },
 "nbformat": 4,
 "nbformat_minor": 0
}